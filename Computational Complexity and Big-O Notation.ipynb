{
  "nbformat": 4,
  "nbformat_minor": 0,
  "metadata": {
    "colab": {
      "name": "Computational Complexity and Big-O Notation.ipynb",
      "version": "0.3.2",
      "provenance": [],
      "include_colab_link": true
    },
    "kernelspec": {
      "display_name": "Python 3",
      "language": "python",
      "name": "python3"
    }
  },
  "cells": [
    {
      "cell_type": "markdown",
      "metadata": {
        "id": "view-in-github",
        "colab_type": "text"
      },
      "source": [
        "<a href=\"https://colab.research.google.com/github/Michaels72/Sort-Algorithms/blob/master/Computational%20Complexity%20and%20Big-O%20Notation.ipynb\" target=\"_parent\"><img src=\"https://colab.research.google.com/assets/colab-badge.svg\" alt=\"Open In Colab\"/></a>"
      ]
    },
    {
      "metadata": {
        "id": "4bkxetOHEYtL",
        "colab_type": "text"
      },
      "cell_type": "markdown",
      "source": [
        "[Sorting](https://www.cs.cmu.edu/~adamchik/15-121/lectures/Sorting%20Algorithms/sorting.html)"
      ]
    },
    {
      "metadata": {
        "id": "UsyMWz3JEYtQ",
        "colab_type": "raw"
      },
      "cell_type": "markdown",
      "source": [
        "Bubble Sort"
      ]
    },
    {
      "metadata": {
        "id": "h-bm-SKDEYtS",
        "colab_type": "code",
        "colab": {},
        "outputId": "c0de0a65-e5d8-4edc-d8f7-02f806ac6c40"
      },
      "cell_type": "code",
      "source": [
        "my_list = [12, 5, 13, 57, 3, 72, 42]\n",
        "\n",
        "def bubble(bad_list):\n",
        "    sorted = False\n",
        "\n",
        "    while not sorted:\n",
        "        sorted = True\n",
        "        for i in range(len(bad_list) - 1):\n",
        "            if bad_list[i] > bad_list[i+1]:\n",
        "                sorted = False\n",
        "                bad_list[i], bad_list[i+1] = bad_list[i+1], bad_list[i]\n",
        "\n",
        "bubble(my_list)\n",
        "print (my_list)"
      ],
      "execution_count": 0,
      "outputs": [
        {
          "output_type": "stream",
          "text": [
            "[3, 5, 12, 13, 42, 57, 72]\n"
          ],
          "name": "stdout"
        }
      ]
    },
    {
      "metadata": {
        "id": "YrFetTarEYtd",
        "colab_type": "code",
        "colab": {},
        "outputId": "4ccd2384-4a67-4552-dea2-e4e14df2c63b"
      },
      "cell_type": "code",
      "source": [
        "my_list = [12, 5, 13, 57, 3, 72, 42, 22, 26, 36, 91]\n",
        "def bubble_sort(arr):\n",
        "    def swap(i, j):\n",
        "        arr[i], arr[j] = arr[j], arr[i]\n",
        "\n",
        "    n = len(arr)\n",
        "    swapped = True\n",
        "    \n",
        "    x = -1\n",
        "    while swapped:\n",
        "        swapped = False\n",
        "        x = x + 1\n",
        "        for i in range(1, n-x):\n",
        "            if arr[i - 1] > arr[i]:\n",
        "                swap(i - 1, i)\n",
        "                swapped = True\n",
        "                    \n",
        "    return arr\n",
        "print(my_list)\n",
        "print(bubble_sort(my_list))\n",
        "\n"
      ],
      "execution_count": 0,
      "outputs": [
        {
          "output_type": "stream",
          "text": [
            "[12, 5, 13, 57, 3, 72, 42, 22, 26, 36, 91]\n",
            "[3, 5, 12, 13, 22, 26, 36, 42, 57, 72, 91]\n"
          ],
          "name": "stdout"
        }
      ]
    },
    {
      "metadata": {
        "id": "IfH_x0tfEYtl",
        "colab_type": "raw"
      },
      "cell_type": "markdown",
      "source": [
        "Selection Sort"
      ]
    },
    {
      "metadata": {
        "id": "MMRdjhddEYtr",
        "colab_type": "code",
        "colab": {},
        "outputId": "ab72b0a8-a0b8-4640-d424-ca9d9a514bb2"
      },
      "cell_type": "code",
      "source": [
        "def selection_sort(arr):        \n",
        "    for i in range(len(arr)):\n",
        "        minimum = i\n",
        "        \n",
        "        for j in range(i + 1, len(arr)):\n",
        "            # Select the smallest value\n",
        "            if arr[j] < arr[minimum]:\n",
        "                minimum = j\n",
        "\n",
        "        # Place it at the front of the \n",
        "        # sorted end of the array\n",
        "        arr[minimum], arr[i] = arr[i], arr[minimum]\n",
        "            \n",
        "    return arr\n",
        "\n",
        "selection_sort(my_list)"
      ],
      "execution_count": 0,
      "outputs": [
        {
          "output_type": "execute_result",
          "data": {
            "text/plain": [
              "[3, 5, 12, 13, 22, 26, 36, 42, 57, 72, 91]"
            ]
          },
          "metadata": {
            "tags": []
          },
          "execution_count": 3
        }
      ]
    },
    {
      "metadata": {
        "id": "4Uw3DSCFEYtz",
        "colab_type": "raw"
      },
      "cell_type": "markdown",
      "source": [
        "Insertion Sort"
      ]
    },
    {
      "metadata": {
        "id": "2DMgj9wIEYt0",
        "colab_type": "code",
        "colab": {},
        "outputId": "e1b014a9-bb4b-438c-912a-a067cecec139"
      },
      "cell_type": "code",
      "source": [
        "b=([8, 91, 72, 88, 5, 22, 26, 13, 3, 26])\n",
        "def insertionSort(b): \n",
        "    for i in range(1, len(b)): \n",
        "        up = b[i] \n",
        "        j = i - 1\n",
        "        while j >=0 and b[j] > up:  \n",
        "            b[j + 1] = b[j] \n",
        "            j -= 1\n",
        "        b[j + 1] = up     \n",
        "    return b    \n",
        "print(b)\n",
        "print(insertionSort(b))"
      ],
      "execution_count": 0,
      "outputs": [
        {
          "output_type": "stream",
          "text": [
            "[8, 91, 72, 88, 5, 22, 26, 13, 3, 26]\n",
            "[3, 5, 8, 13, 22, 26, 26, 72, 88, 91]\n"
          ],
          "name": "stdout"
        }
      ]
    },
    {
      "metadata": {
        "id": "MVH9LoxYEYt6",
        "colab_type": "raw"
      },
      "cell_type": "markdown",
      "source": [
        "Merge Sort"
      ]
    },
    {
      "metadata": {
        "id": "pfH5Rs6nEYt8",
        "colab_type": "code",
        "colab": {},
        "outputId": "6372caad-f6a4-4f83-bef0-60366b270b26"
      },
      "cell_type": "code",
      "source": [
        "def msort4(x):\n",
        "    if len(x) < 20:\n",
        "        return sorted(x)\n",
        "    result = []\n",
        "    mid = int(len(x) / 2)\n",
        "    y = msort4(x[:mid])\n",
        "    z = msort4(x[mid:])\n",
        "    i = 0\n",
        "    j = 0\n",
        "    while i < len(y) and j < len(z):\n",
        "        if y[i] > z[j]:\n",
        "            result.append(z[j])\n",
        "            j += 1\n",
        "        else:\n",
        "            result.append(y[i])\n",
        "            i += 1\n",
        "    result += y[i:]\n",
        "    result += z[j:]\n",
        "    return result\n",
        "msort4([8, 91, 72, 88, 5, 22, 26, 13, 3, 26])"
      ],
      "execution_count": 0,
      "outputs": [
        {
          "output_type": "execute_result",
          "data": {
            "text/plain": [
              "[3, 5, 8, 13, 22, 26, 26, 72, 88, 91]"
            ]
          },
          "metadata": {
            "tags": []
          },
          "execution_count": 5
        }
      ]
    },
    {
      "metadata": {
        "id": "Iosb5-WuEYuG",
        "colab_type": "raw"
      },
      "cell_type": "markdown",
      "source": [
        "Bucket Sort"
      ]
    },
    {
      "metadata": {
        "id": "MHEmKhCBEYuI",
        "colab_type": "code",
        "colab": {},
        "outputId": "09049ce2-0805-4389-dcfb-892ad6f9506a"
      },
      "cell_type": "code",
      "source": [
        "# Python3 program to sort an array  \n",
        "# using bucket sort  \n",
        "def insertionSort(b): \n",
        "    for i in range(1, len(b)): \n",
        "        up = b[i] \n",
        "        j = i - 1\n",
        "        while j >=0 and b[j] > up:  \n",
        "            b[j + 1] = b[j] \n",
        "            j -= 1\n",
        "        b[j + 1] = up     \n",
        "    return b      \n",
        "              \n",
        "def bucketSort(x): \n",
        "    arr = [] \n",
        "    slot_num = 10 # 10 means 10 slots, each \n",
        "                  # slot's size is 0.1 \n",
        "    for i in range(slot_num): \n",
        "        arr.append([]) \n",
        "          \n",
        "    # Put array elements in different buckets  \n",
        "    for j in x: \n",
        "        index_b = int(slot_num * j)  \n",
        "        arr[index_b].append(j) \n",
        "      \n",
        "    # Sort individual buckets  \n",
        "    for i in range(slot_num): \n",
        "        arr[i] = insertionSort(arr[i]) \n",
        "          \n",
        "    # concatenate the result \n",
        "    k = 0\n",
        "    for i in range(slot_num): \n",
        "        for j in range(len(arr[i])): \n",
        "            x[k] = arr[i][j] \n",
        "            k += 1\n",
        "    return x \n",
        "  \n",
        "# Driver Code \n",
        "x = [0.897, 0.565, 0.656, \n",
        "     0.1234, 0.665, 0.3434]  \n",
        "print('Original Array:',x)\n",
        "print('Sorted Array:', bucketSort(x))"
      ],
      "execution_count": 0,
      "outputs": [
        {
          "output_type": "stream",
          "text": [
            "Original Array: [0.897, 0.565, 0.656, 0.1234, 0.665, 0.3434]\n",
            "Sorted Array: [0.1234, 0.3434, 0.565, 0.656, 0.665, 0.897]\n"
          ],
          "name": "stdout"
        }
      ]
    },
    {
      "metadata": {
        "id": "vYIRKUboEYuP",
        "colab_type": "raw"
      },
      "cell_type": "markdown",
      "source": [
        "Selection Sort"
      ]
    },
    {
      "metadata": {
        "id": "0iT3PfwoEYuQ",
        "colab_type": "code",
        "colab": {},
        "outputId": "af816e42-8da5-49a9-87ea-e90633135e50"
      },
      "cell_type": "code",
      "source": [
        "select = [8, 91, 72, 88, 5, 22, 26, 13, 3, 26]\n",
        "for i in range(len(select)):\n",
        "    mini = min(select[i:]) #find minimum element\n",
        "    min_index = select[i:].index(mini) #find index of minimum element\n",
        "    select[i + min_index] = select[i] #replace element at min_index with first element\n",
        "    select[i] = mini                  #replace first element with min element\n",
        "print(select)"
      ],
      "execution_count": 0,
      "outputs": [
        {
          "output_type": "stream",
          "text": [
            "[3, 5, 8, 13, 22, 26, 26, 72, 88, 91]\n"
          ],
          "name": "stdout"
        }
      ]
    },
    {
      "metadata": {
        "id": "zTYuUehtEYuX",
        "colab_type": "code",
        "colab": {}
      },
      "cell_type": "code",
      "source": [
        ""
      ],
      "execution_count": 0,
      "outputs": []
    }
  ]
}