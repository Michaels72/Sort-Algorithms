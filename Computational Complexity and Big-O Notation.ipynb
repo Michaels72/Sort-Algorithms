{
 "cells": [
  {
   "cell_type": "markdown",
   "metadata": {},
   "source": [
    "[Sorting](https://www.cs.cmu.edu/~adamchik/15-121/lectures/Sorting%20Algorithms/sorting.html)"
   ]
  },
  {
   "cell_type": "raw",
   "metadata": {},
   "source": [
    "Bubble Sort"
   ]
  },
  {
   "cell_type": "code",
   "execution_count": 1,
   "metadata": {},
   "outputs": [
    {
     "name": "stdout",
     "output_type": "stream",
     "text": [
      "[3, 5, 12, 13, 42, 57, 72]\n"
     ]
    }
   ],
   "source": [
    "my_list = [12, 5, 13, 57, 3, 72, 42]\n",
    "\n",
    "def bubble(bad_list):\n",
    "    sorted = False\n",
    "\n",
    "    while not sorted:\n",
    "        sorted = True\n",
    "        for i in range(len(bad_list) - 1):\n",
    "            if bad_list[i] > bad_list[i+1]:\n",
    "                sorted = False\n",
    "                bad_list[i], bad_list[i+1] = bad_list[i+1], bad_list[i]\n",
    "\n",
    "bubble(my_list)\n",
    "print (my_list)"
   ]
  },
  {
   "cell_type": "code",
   "execution_count": 2,
   "metadata": {},
   "outputs": [
    {
     "name": "stdout",
     "output_type": "stream",
     "text": [
      "[12, 5, 13, 57, 3, 72, 42, 22, 26, 36, 91]\n",
      "[3, 5, 12, 13, 22, 26, 36, 42, 57, 72, 91]\n"
     ]
    }
   ],
   "source": [
    "my_list = [12, 5, 13, 57, 3, 72, 42, 22, 26, 36, 91]\n",
    "def bubble_sort(arr):\n",
    "    def swap(i, j):\n",
    "        arr[i], arr[j] = arr[j], arr[i]\n",
    "\n",
    "    n = len(arr)\n",
    "    swapped = True\n",
    "    \n",
    "    x = -1\n",
    "    while swapped:\n",
    "        swapped = False\n",
    "        x = x + 1\n",
    "        for i in range(1, n-x):\n",
    "            if arr[i - 1] > arr[i]:\n",
    "                swap(i - 1, i)\n",
    "                swapped = True\n",
    "                    \n",
    "    return arr\n",
    "print(my_list)\n",
    "print(bubble_sort(my_list))\n",
    "\n"
   ]
  },
  {
   "cell_type": "raw",
   "metadata": {},
   "source": [
    "Selection Sort"
   ]
  },
  {
   "cell_type": "code",
   "execution_count": 3,
   "metadata": {},
   "outputs": [
    {
     "data": {
      "text/plain": [
       "[3, 5, 12, 13, 22, 26, 36, 42, 57, 72, 91]"
      ]
     },
     "execution_count": 3,
     "metadata": {},
     "output_type": "execute_result"
    }
   ],
   "source": [
    "def selection_sort(arr):        \n",
    "    for i in range(len(arr)):\n",
    "        minimum = i\n",
    "        \n",
    "        for j in range(i + 1, len(arr)):\n",
    "            # Select the smallest value\n",
    "            if arr[j] < arr[minimum]:\n",
    "                minimum = j\n",
    "\n",
    "        # Place it at the front of the \n",
    "        # sorted end of the array\n",
    "        arr[minimum], arr[i] = arr[i], arr[minimum]\n",
    "            \n",
    "    return arr\n",
    "\n",
    "selection_sort(my_list)"
   ]
  },
  {
   "cell_type": "raw",
   "metadata": {},
   "source": [
    "Insertion Sort"
   ]
  },
  {
   "cell_type": "code",
   "execution_count": 4,
   "metadata": {},
   "outputs": [
    {
     "name": "stdout",
     "output_type": "stream",
     "text": [
      "[8, 91, 72, 88, 5, 22, 26, 13, 3, 26]\n",
      "[3, 5, 8, 13, 22, 26, 26, 72, 88, 91]\n"
     ]
    }
   ],
   "source": [
    "b=([8, 91, 72, 88, 5, 22, 26, 13, 3, 26])\n",
    "def insertionSort(b): \n",
    "    for i in range(1, len(b)): \n",
    "        up = b[i] \n",
    "        j = i - 1\n",
    "        while j >=0 and b[j] > up:  \n",
    "            b[j + 1] = b[j] \n",
    "            j -= 1\n",
    "        b[j + 1] = up     \n",
    "    return b    \n",
    "print(b)\n",
    "print(insertionSort(b))"
   ]
  },
  {
   "cell_type": "raw",
   "metadata": {},
   "source": [
    "Merge Sort"
   ]
  },
  {
   "cell_type": "code",
   "execution_count": 5,
   "metadata": {},
   "outputs": [
    {
     "data": {
      "text/plain": [
       "[3, 5, 8, 13, 22, 26, 26, 72, 88, 91]"
      ]
     },
     "execution_count": 5,
     "metadata": {},
     "output_type": "execute_result"
    }
   ],
   "source": [
    "def msort4(x):\n",
    "    if len(x) < 20:\n",
    "        return sorted(x)\n",
    "    result = []\n",
    "    mid = int(len(x) / 2)\n",
    "    y = msort4(x[:mid])\n",
    "    z = msort4(x[mid:])\n",
    "    i = 0\n",
    "    j = 0\n",
    "    while i < len(y) and j < len(z):\n",
    "        if y[i] > z[j]:\n",
    "            result.append(z[j])\n",
    "            j += 1\n",
    "        else:\n",
    "            result.append(y[i])\n",
    "            i += 1\n",
    "    result += y[i:]\n",
    "    result += z[j:]\n",
    "    return result\n",
    "msort4([8, 91, 72, 88, 5, 22, 26, 13, 3, 26])"
   ]
  },
  {
   "cell_type": "raw",
   "metadata": {},
   "source": [
    "Bucket Sort"
   ]
  },
  {
   "cell_type": "code",
   "execution_count": 6,
   "metadata": {},
   "outputs": [
    {
     "name": "stdout",
     "output_type": "stream",
     "text": [
      "Original Array: [0.897, 0.565, 0.656, 0.1234, 0.665, 0.3434]\n",
      "Sorted Array: [0.1234, 0.3434, 0.565, 0.656, 0.665, 0.897]\n"
     ]
    }
   ],
   "source": [
    "# Python3 program to sort an array  \n",
    "# using bucket sort  \n",
    "def insertionSort(b): \n",
    "    for i in range(1, len(b)): \n",
    "        up = b[i] \n",
    "        j = i - 1\n",
    "        while j >=0 and b[j] > up:  \n",
    "            b[j + 1] = b[j] \n",
    "            j -= 1\n",
    "        b[j + 1] = up     \n",
    "    return b      \n",
    "              \n",
    "def bucketSort(x): \n",
    "    arr = [] \n",
    "    slot_num = 10 # 10 means 10 slots, each \n",
    "                  # slot's size is 0.1 \n",
    "    for i in range(slot_num): \n",
    "        arr.append([]) \n",
    "          \n",
    "    # Put array elements in different buckets  \n",
    "    for j in x: \n",
    "        index_b = int(slot_num * j)  \n",
    "        arr[index_b].append(j) \n",
    "      \n",
    "    # Sort individual buckets  \n",
    "    for i in range(slot_num): \n",
    "        arr[i] = insertionSort(arr[i]) \n",
    "          \n",
    "    # concatenate the result \n",
    "    k = 0\n",
    "    for i in range(slot_num): \n",
    "        for j in range(len(arr[i])): \n",
    "            x[k] = arr[i][j] \n",
    "            k += 1\n",
    "    return x \n",
    "  \n",
    "# Driver Code \n",
    "x = [0.897, 0.565, 0.656, \n",
    "     0.1234, 0.665, 0.3434]  \n",
    "print('Original Array:',x)\n",
    "print('Sorted Array:', bucketSort(x))"
   ]
  },
  {
   "cell_type": "raw",
   "metadata": {},
   "source": [
    "Selection Sort"
   ]
  },
  {
   "cell_type": "code",
   "execution_count": 7,
   "metadata": {},
   "outputs": [
    {
     "name": "stdout",
     "output_type": "stream",
     "text": [
      "[3, 5, 8, 13, 22, 26, 26, 72, 88, 91]\n"
     ]
    }
   ],
   "source": [
    "select = [8, 91, 72, 88, 5, 22, 26, 13, 3, 26]\n",
    "for i in range(len(select)):\n",
    "    mini = min(select[i:]) #find minimum element\n",
    "    min_index = select[i:].index(mini) #find index of minimum element\n",
    "    select[i + min_index] = select[i] #replace element at min_index with first element\n",
    "    select[i] = mini                  #replace first element with min element\n",
    "print(select)"
   ]
  },
  {
   "cell_type": "code",
   "execution_count": null,
   "metadata": {},
   "outputs": [],
   "source": []
  }
 ],
 "metadata": {
  "kernelspec": {
   "display_name": "Python 3",
   "language": "python",
   "name": "python3"
  },
  "language_info": {
   "codemirror_mode": {
    "name": "ipython",
    "version": 3
   },
   "file_extension": ".py",
   "mimetype": "text/x-python",
   "name": "python",
   "nbconvert_exporter": "python",
   "pygments_lexer": "ipython3",
   "version": "3.6.5"
  }
 },
 "nbformat": 4,
 "nbformat_minor": 2
}
